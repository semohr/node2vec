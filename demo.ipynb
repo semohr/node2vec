{
 "nbformat": 4,
 "nbformat_minor": 2,
 "metadata": {
  "language_info": {
   "name": "python",
   "codemirror_mode": {
    "name": "ipython",
    "version": 3
   },
   "version": "3.7.3"
  },
  "orig_nbformat": 2,
  "file_extension": ".py",
  "mimetype": "text/x-python",
  "name": "python",
  "npconvert_exporter": "python",
  "pygments_lexer": "ipython3",
  "version": 3
 },
 "cells": [
  {
   "cell_type": "markdown",
   "metadata": {},
   "source": [
    "# node2vec"
   ]
  },
  {
   "cell_type": "code",
   "execution_count": null,
   "metadata": {},
   "outputs": [],
   "source": [
    "import numpy as np\n",
    "from node2vec.model import Node2Vec\n",
    "\n",
    "# Create an edgelist\n",
    "src_nodes = np.array([1, 2, 2, 3, 3, 3, 4, 5, 6, 6, 6, 7, 7, 7, 7, 8], dtype=np.int32)\n",
    "dest_nodes = np.array([0, 0, 1, 0, 1, 2, 0, 0, 0, 4, 5, 0, 1, 2, 3, 0], dtype=np.int32)\n",
    "\n",
    "# Create a node2vec model from the edgelist\n",
    "node2vec_model = Node2Vec(src_nodes, dest_nodes, graph_is_directed=False)\n",
    "\n",
    "# Simulate biased random walks on the graph\n",
    "node2vec_model.simulate_walks(\n",
    "    walk_length=25,\n",
    "    n_walks=10,\n",
    "    p=1,\n",
    "    q=0.5,\n",
    "    workers=2\n",
    ")\n",
    "\n",
    "# Print the generated walks\n",
    "print(node2vec_model.walks)"
   ]
  },
  {
   "cell_type": "code",
   "execution_count": null,
   "metadata": {},
   "outputs": [],
   "source": [
    "# Learn node embeddings from the generated random walks\n",
    "node2vec_model.learn_embeddings(\n",
    "    dimensions=64,\n",
    "    context_size=10,\n",
    "    epochs=2,\n",
    "    workers=2\n",
    ")\n",
    "\n",
    "# Print the embedding corresponding to the first node\n",
    "print(node2vec_model.embeddings[0])"
   ]
  }
 ]
}
